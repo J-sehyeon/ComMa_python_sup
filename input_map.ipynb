{
 "cells": [
  {
   "cell_type": "markdown",
   "id": "a79a94b2",
   "metadata": {},
   "source": [
    "### input()함수의 설명과 같이 쓰이는 유용한 함수, 개념"
   ]
  },
  {
   "cell_type": "markdown",
   "id": "38e6b0e3",
   "metadata": {},
   "source": [
    "`input()`함수는 사용자가 입력 가능한 공간을 만들어준다. input에 들어온 모든 값은 그대로 `str`형식으로 변환되어 return된다."
   ]
  },
  {
   "cell_type": "code",
   "execution_count": 6,
   "id": "b749454f",
   "metadata": {},
   "outputs": [
    {
     "name": "stdout",
     "output_type": "stream",
     "text": [
      "a1 <class 'str'>\n"
     ]
    }
   ],
   "source": [
    "x = input()\n",
    "\n",
    "print(x, type(x))"
   ]
  },
  {
   "cell_type": "markdown",
   "id": "0b88726d",
   "metadata": {},
   "source": [
    "#### tuple[튜플]\n",
    "> 튜플은 **순서가 있는 객체의 집합**이다. 튜플의 기본 사용은 `()`안에 `,`로 원소를 구분하는 것이다. ex\\) tup_test = (1, 2)\n",
    "주요 성질\n",
    "> 1. 객체들에게는 순서가 있다. : 튜플 내의 원소들은 순서대로 저장된다. 따라서 특정 원소에 순서에 해당하는 인덱스를 사용해 접근할 수 있다. 인덱스 접근은 \"문자열 인덱싱\"과 유사하다.\n",
    "> 2. 불변성 : 튜플이 한 번 생성되고 나면 그 안의 원소들은 변하지 않는다. 당연히 원소의 추가와 제거도 안된다.    "
   ]
  },
  {
   "cell_type": "code",
   "execution_count": 11,
   "id": "19115d7c",
   "metadata": {},
   "outputs": [
    {
     "name": "stdout",
     "output_type": "stream",
     "text": [
      "hi\n",
      "<class 'int'>\n",
      "hi True (1,)\n"
     ]
    }
   ],
   "source": [
    "# 튜플 선언\n",
    "tup_test = (1, 2, 3, \"hi\", True, (1, ))     # 튜플 내부의 원소로는 모든 자료형이 가능하다. 심지어 튜플 자체도 가능하다.\n",
    "\n",
    "print(tup_test[3])\n",
    "print(type(tup_test[1]))    # 각 원소는 각 원소의 자료형에 맞게 저장된다.\n",
    "a, b, c = tup_test[3:]      # 우변부터 살펴보면, 튜플의 4번째 원소부터 마지막(6번째)원소까지 인덱싱을 한 값이 튜플 형태로 리턴되고 그 값이 순서대로 a, b, c에 들어간다.\n",
    "print(a, b, c)"
   ]
  },
  {
   "cell_type": "markdown",
   "id": "58896596",
   "metadata": {},
   "source": [
    "#### .split()함수\n",
    "> 주로 `input().split()`의 형태로 쓰이며 `.`앞의 원소를 **separator**를 기준으로 구분하여 튜플 형태로 반환한다. 즉, `input()`의 결과값인 문자열을 분해한다는 의미이다.\n",
    ">> separator는 `split(\"separator\")`과 같이 스플릿 함수 내부에 있는 원소이다."
   ]
  },
  {
   "cell_type": "code",
   "execution_count": null,
   "id": "c537b8c4",
   "metadata": {},
   "outputs": [
    {
     "name": "stdout",
     "output_type": "stream",
     "text": [
      "1 2 3\n"
     ]
    }
   ],
   "source": [
    "a, b, c = input().split(\",\")    # '1,2,3'입력\n",
    "print(a, b, c)"
   ]
  },
  {
   "cell_type": "markdown",
   "id": "acffd3bd",
   "metadata": {},
   "source": [
    "#### map()함수\n",
    "> 기본 형태: `map(function, iterator)`<br>\n",
    ">map함수는 주어진 집합의 각 원소들에게 동일한 함수를 각각 적용시키고 싶을 때 사용한다. 이 때 주어진 집합을 iterator라 하고 우리가 적용시키고 싶은 함수 뒤에 온다. <br>\n",
    "> map함수의 리턴값은 iterator이다. 이를 보통 **list()캐스트** 를 통해 리스트로 변환시켜 사용한다.<br>\n",
    "> 리스트(list)는 튜플과 같이 객체들의 집합이다. 차이점은 내부의 원소들을 수정할 수 있다는 것이다. 기본 형태는 ()가 아닌 []로 묶인다.\n"
   ]
  },
  {
   "cell_type": "code",
   "execution_count": 18,
   "id": "ddd48780",
   "metadata": {},
   "outputs": [
    {
     "name": "stdout",
     "output_type": "stream",
     "text": [
      "<map object at 0x109241ae0>\n",
      "[1, 2, 3]\n"
     ]
    }
   ],
   "source": [
    "map_test = map(int, input().split())\n",
    "print(map_test)\n",
    "print(list(map_test))"
   ]
  },
  {
   "cell_type": "code",
   "execution_count": 21,
   "id": "b8529fcf",
   "metadata": {},
   "outputs": [
    {
     "name": "stdout",
     "output_type": "stream",
     "text": [
      "11 14 10\n"
     ]
    }
   ],
   "source": [
    "# 전부 다 읽고 아래 코드가 어떤 식으로 흘러가는지 순서를 잘 생각해보기를 바란다.\n",
    "\n",
    "def plus_ten(a):            # 새로운 함수를 선언하는 것이다. 그냥 그렇구나 하고서 넘어가도 좋다.\n",
    "    return int(a) + 10\n",
    "\n",
    "\n",
    "a, b, c = map(plus_ten, input().split())        # 1 4 0     입력\n",
    "print(a, b, c)                                  # 11 14 10  출력"
   ]
  }
 ],
 "metadata": {
  "kernelspec": {
   "display_name": "virtualenv_1",
   "language": "python",
   "name": "python3"
  },
  "language_info": {
   "codemirror_mode": {
    "name": "ipython",
    "version": 3
   },
   "file_extension": ".py",
   "mimetype": "text/x-python",
   "name": "python",
   "nbconvert_exporter": "python",
   "pygments_lexer": "ipython3",
   "version": "3.13.2"
  }
 },
 "nbformat": 4,
 "nbformat_minor": 5
}
